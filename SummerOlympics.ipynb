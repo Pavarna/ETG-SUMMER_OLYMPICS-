{
  "nbformat": 4,
  "nbformat_minor": 0,
  "metadata": {
    "colab": {
      "name": "SummerOlympics.ipynb",
      "provenance": []
    },
    "kernelspec": {
      "name": "python3",
      "display_name": "Python 3"
    },
    "language_info": {
      "name": "python"
    }
  },
  "cells": [
    {
      "cell_type": "markdown",
      "metadata": {
        "id": "Llm6FVZDh_fu"
      },
      "source": [
        "# Summer Olympics Data Analysis Assignment"
      ]
    },
    {
      "cell_type": "markdown",
      "metadata": {
        "id": "SCk2HE7FiK4e"
      },
      "source": [
        "\n",
        "\n",
        "\n",
        "**1. In how many cities Summer Olympics is held so far?**\n",
        "\n"
      ]
    },
    {
      "cell_type": "code",
      "metadata": {
        "colab": {
          "base_uri": "https://localhost:8080/"
        },
        "id": "uVdyQcZIiIuT",
        "outputId": "3803fecd-07b9-4942-8128-0974aa92a376"
      },
      "source": [
        "import pandas as pd\n",
        "import matplotlib.pyplot as plt\n",
        "\n",
        "df=pd.read_csv('summer.csv')\n",
        "print(\"Total number of cities : \",len(df['City'].unique()))\n",
        "print(\"\\nCities where Summer Olympics held :\", df['City'].unique())\n",
        "\n"
      ],
      "execution_count": 145,
      "outputs": [
        {
          "output_type": "stream",
          "name": "stdout",
          "text": [
            "Total number of cities :  22\n",
            "\n",
            "Cities where Summer Olympics held : ['Athens' 'Paris' 'St Louis' 'London' 'Stockholm' 'Antwerp' 'Amsterdam'\n",
            " 'Los Angeles' 'Berlin' 'Helsinki' 'Melbourne / Stockholm' 'Rome' 'Tokyo'\n",
            " 'Mexico' 'Munich' 'Montreal' 'Moscow' 'Seoul' 'Barcelona' 'Atlanta'\n",
            " 'Sydney' 'Beijing']\n"
          ]
        }
      ]
    },
    {
      "cell_type": "markdown",
      "metadata": {
        "id": "hPWDew7P48GY"
      },
      "source": [
        "**2.Which sport is having most number of Gold Medals so far? (Top 5)**"
      ]
    },
    {
      "cell_type": "code",
      "metadata": {
        "colab": {
          "base_uri": "https://localhost:8080/",
          "height": 399
        },
        "id": "6828Mb2g49P_",
        "outputId": "e35046dc-c43a-4c5d-904a-a766d2a53b95"
      },
      "source": [
        "df=pd.read_csv('summer.csv')\n",
        "df=df[df['Medal']=='Gold']\n",
        "\n",
        "data=[]\n",
        "for sports in df['Sport'].unique():\n",
        "  data.append([sports, len(df[df['Sport']==sports])])\n",
        "\n",
        "data=pd.DataFrame(data,columns=['Sports','Counts'])\n",
        "data=data.sort_values(by='Counts',ascending=False).head()\n",
        "data.plot(x='Sports',y='Counts',kind='bar',figsize=(10,5))"
      ],
      "execution_count": 5,
      "outputs": [
        {
          "output_type": "execute_result",
          "data": {
            "text/plain": [
              "<matplotlib.axes._subplots.AxesSubplot at 0x7fbdd72fd090>"
            ]
          },
          "metadata": {},
          "execution_count": 5
        },
        {
          "output_type": "display_data",
          "data": {
            "image/png": "[encoded data removed]",
            "text/plain": [
              "<Figure size 720x360 with 1 Axes>"
            ]
          },
          "metadata": {
            "needs_background": "light"
          }
        }
      ]
    },
    {
      "cell_type": "markdown",
      "metadata": {
        "id": "S5tSQaGbjn5_"
      },
      "source": [
        "**3. Which sport is having most number of medals so far? (Top 5)**\n",
        "\n",
        "\n"
      ]
    },
    {
      "cell_type": "code",
      "metadata": {
        "colab": {
          "base_uri": "https://localhost:8080/",
          "height": 399
        },
        "id": "iTUyusjbjpqV",
        "outputId": "f035ae2d-9a28-49bc-834e-3668863ceaeb"
      },
      "source": [
        "df=pd.read_csv('summer.csv')\n",
        "data=[]\n",
        "for sports in df['Sport'].unique():\n",
        "  data.append([sports, len(df[df['Sport']==sports])])\n",
        "\n",
        "data=pd.DataFrame(data,columns=['Sports','Counts'])\n",
        "data=data.sort_values(by='Counts',ascending=False).head()\n",
        "data.plot(x='Sports',y='Counts',kind='bar',figsize=(10,5))"
      ],
      "execution_count": 6,
      "outputs": [
        {
          "output_type": "execute_result",
          "data": {
            "text/plain": [
              "<matplotlib.axes._subplots.AxesSubplot at 0x7fbdd7635650>"
            ]
          },
          "metadata": {},
          "execution_count": 6
        },
        {
          "output_type": "display_data",
          "data": {
            "image/png": "[encoded data removed]",
            "text/plain": [
              "<Figure size 720x360 with 1 Axes>"
            ]
          },
          "metadata": {
            "needs_background": "light"
          }
        }
      ]
    },
    {
      "cell_type": "markdown",
      "metadata": {
        "id": "MExF2Iil10Pj"
      },
      "source": [
        "\n",
        "**4. Which player has won most number of medals? (Top 5)**"
      ]
    },
    {
      "cell_type": "code",
      "metadata": {
        "colab": {
          "base_uri": "https://localhost:8080/",
          "height": 458
        },
        "id": "FGeRnRMu1M7X",
        "outputId": "79bc6c2b-7c31-4883-dbd5-30341ca478f5"
      },
      "source": [
        "df=pd.read_csv('summer.csv')\n",
        "data=[]\n",
        "for player in df['Athlete'].unique():\n",
        "  data.append([player, len(df[df['Athlete']==player])])\n",
        "\n",
        "data=pd.DataFrame(data,columns=['Athlete','Counts'])\n",
        "data=data.sort_values(by='Counts',ascending=False).head()\n",
        "data.plot(x='Athlete',y='Counts',kind='bar',figsize=(10,5))"
      ],
      "execution_count": 146,
      "outputs": [
        {
          "output_type": "execute_result",
          "data": {
            "text/plain": [
              "<matplotlib.axes._subplots.AxesSubplot at 0x7fbdcffb63d0>"
            ]
          },
          "metadata": {},
          "execution_count": 146
        },
        {
          "output_type": "display_data",
          "data": {
            "image/png": "[encoded data removed]",
            "text/plain": [
              "<Figure size 720x360 with 1 Axes>"
            ]
          },
          "metadata": {
            "needs_background": "light"
          }
        }
      ]
    },
    {
      "cell_type": "markdown",
      "metadata": {
        "id": "JVDFhVTf_ms3"
      },
      "source": [
        "\n",
        "**5. Which player has won most number Gold Medals of medals? (Top 5)**"
      ]
    },
    {
      "cell_type": "code",
      "metadata": {
        "colab": {
          "base_uri": "https://localhost:8080/",
          "height": 426
        },
        "id": "iUWO6v0T_lHO",
        "outputId": "83e906f8-999a-4b5d-cc7c-6a930823fa4f"
      },
      "source": [
        "df=pd.read_csv('summer.csv')\n",
        "df=df[df['Medal']=='Gold']\n",
        "\n",
        "data=[]\n",
        "for player in df['Athlete'].unique():\n",
        "  data.append([player, len(df[df['Athlete']==player])])\n",
        "\n",
        "data=pd.DataFrame(data,columns=['Athlete','Counts'])\n",
        "data=data.sort_values(by='Counts',ascending=False).head()\n",
        "data.plot(x='Athlete',y='Counts',kind='bar',figsize=(10,5))"
      ],
      "execution_count": 148,
      "outputs": [
        {
          "output_type": "execute_result",
          "data": {
            "text/plain": [
              "<matplotlib.axes._subplots.AxesSubplot at 0x7fbdd0ac95d0>"
            ]
          },
          "metadata": {},
          "execution_count": 148
        },
        {
          "output_type": "display_data",
          "data": {
            "image/png": "[encoded data removed]",
            "text/plain": [
              "<Figure size 720x360 with 1 Axes>"
            ]
          },
          "metadata": {
            "needs_background": "light"
          }
        }
      ]
    },
    {
      "cell_type": "markdown",
      "metadata": {
        "id": "jueN7T_M8brs"
      },
      "source": [
        "**6. In which year India won first Gold Medal in Summer Olympics?**"
      ]
    },
    {
      "cell_type": "code",
      "metadata": {
        "colab": {
          "base_uri": "https://localhost:8080/"
        },
        "id": "eLaENKVy8dSK",
        "outputId": "594488e1-18ad-43ca-af98-8330456eda01"
      },
      "source": [
        "df=pd.read_csv('summer.csv')\n",
        "df=df[df['Country']=='IND']\n",
        "df=df[df['Medal']=='Gold']\n",
        "print(\"*** In\",df['Year'].min(),\"Indian won first gold medal ***\\n\")"
      ],
      "execution_count": 35,
      "outputs": [
        {
          "output_type": "stream",
          "name": "stdout",
          "text": [
            "*** In 1928 Indian won first gold medal ***\n",
            "\n"
          ]
        }
      ]
    },
    {
      "cell_type": "markdown",
      "metadata": {
        "id": "nGRfkYOs7YM4"
      },
      "source": [
        "**7. Which event is most popular in terms on number of players? (Top 5)**\n"
      ]
    },
    {
      "cell_type": "code",
      "metadata": {
        "colab": {
          "base_uri": "https://localhost:8080/",
          "height": 431
        },
        "id": "nBZ9UaS27asA",
        "outputId": "9f544b19-183c-4a0f-8eb3-0bdd8f4f6ef1"
      },
      "source": [
        "df=pd.read_csv('summer.csv')\n",
        "data=[]\n",
        "for event in df['Event'].unique():\n",
        "  data.append([event, len(df[df['Event']==event])])\n",
        "\n",
        "data=pd.DataFrame(data,columns=['Event','Players'])\n",
        "data=data.sort_values(by='Players',ascending=False).head()   \n",
        "data.plot(x='Event',y='Players',kind='bar',figsize=(10,5))\n"
      ],
      "execution_count": 149,
      "outputs": [
        {
          "output_type": "execute_result",
          "data": {
            "text/plain": [
              "<matplotlib.axes._subplots.AxesSubplot at 0x7fbdd0641410>"
            ]
          },
          "metadata": {},
          "execution_count": 149
        },
        {
          "output_type": "display_data",
          "data": {
            "image/png": "[encoded data removed]",
            "text/plain": [
              "<Figure size 720x360 with 1 Axes>"
            ]
          },
          "metadata": {
            "needs_background": "light"
          }
        }
      ]
    },
    {
      "cell_type": "markdown",
      "metadata": {
        "id": "aGLACfUe4nnn"
      },
      "source": [
        "**8. Which sport is having most female Gold Medalists? (Top 5)**"
      ]
    },
    {
      "cell_type": "code",
      "metadata": {
        "colab": {
          "base_uri": "https://localhost:8080/",
          "height": 399
        },
        "id": "nDefLtft3Byz",
        "outputId": "92edd30b-06ef-4dce-982d-fb37f66dfcb0"
      },
      "source": [
        "df=pd.read_csv('summer.csv')\n",
        "df=df[df['Gender']=='Women']\n",
        "df=df[df['Medal']=='Gold']\n",
        "df\n",
        "\n",
        "data=[]\n",
        "for sports in df['Sport'].unique():\n",
        "  data.append([sports, len(df[df['Sport']==sports])])\n",
        "\n",
        "data=pd.DataFrame(data,columns=['Sports','Counts'])\n",
        "data=data.sort_values(by='Counts',ascending=False).head()\n",
        "data.plot(x='Sports',y='Counts',kind='bar',figsize=(10,5))\n"
      ],
      "execution_count": 150,
      "outputs": [
        {
          "output_type": "execute_result",
          "data": {
            "text/plain": [
              "<matplotlib.axes._subplots.AxesSubplot at 0x7fbdd032f490>"
            ]
          },
          "metadata": {},
          "execution_count": 150
        },
        {
          "output_type": "display_data",
          "data": {
            "image/png": "[encoded data removed]",
            "text/plain": [
              "<Figure size 720x360 with 1 Axes>"
            ]
          },
          "metadata": {
            "needs_background": "light"
          }
        }
      ]
    }
  ]
}